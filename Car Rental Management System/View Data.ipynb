{
 "cells": [
  {
   "cell_type": "code",
   "execution_count": 2,
   "id": "17d668e6-af2b-4f06-8393-6b9f98deac73",
   "metadata": {},
   "outputs": [
    {
     "name": "stdout",
     "output_type": "stream",
     "text": [
      "   id            name        phone           cnic               car  days  \\\n",
      "0   1  Muhammad Affan  12345678901  4210112345678  Mercedes E-Class     4   \n",
      "1   2            Azam  12345678901  1234567890213     Suzuki Cultus     6   \n",
      "\n",
      "     total              date  \n",
      "0  48000.0  2025-07-23 01:23  \n",
      "1   9000.0  2025-07-23 01:39  \n"
     ]
    }
   ],
   "source": [
    "import pandas as pd\n",
    "import sqlite3\n",
    "\n",
    "\n",
    "# SQLite connection banayein\n",
    "conn = sqlite3.connect(\"car_rentals.db\")\n",
    "\n",
    "# SQL query se data fetch karein\n",
    "df = pd.read_sql_query(\"SELECT * FROM bookings\", conn)\n",
    "\n",
    "# Connection close karein\n",
    "conn.close()\n",
    "\n",
    "# DataFrame print karein\n",
    "print(df)\n"
   ]
  },
  {
   "cell_type": "code",
   "execution_count": null,
   "id": "efe6c739-1e56-404f-88a9-4306eb121b69",
   "metadata": {},
   "outputs": [],
   "source": []
  }
 ],
 "metadata": {
  "kernelspec": {
   "display_name": "Python 3 (ipykernel)",
   "language": "python",
   "name": "python3"
  },
  "language_info": {
   "codemirror_mode": {
    "name": "ipython",
    "version": 3
   },
   "file_extension": ".py",
   "mimetype": "text/x-python",
   "name": "python",
   "nbconvert_exporter": "python",
   "pygments_lexer": "ipython3",
   "version": "3.12.7"
  }
 },
 "nbformat": 4,
 "nbformat_minor": 5
}
